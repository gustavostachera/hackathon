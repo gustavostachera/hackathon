{
 "cells": [
  {
   "cell_type": "code",
   "execution_count": 21,
   "metadata": {},
   "outputs": [],
   "source": [
    "import pandas as pd\n",
    "\n",
    "# Read the CSV file\n",
    "df = pd.read_csv('./data/flights.csv')\n",
    "\n",
    "df.fillna(0, inplace=True)"
   ]
  },
  {
   "cell_type": "code",
   "execution_count": 23,
   "metadata": {},
   "outputs": [],
   "source": [
    "# Create a dictionary for OriginAirportID to OriginAirportName\n",
    "origin_airport_map = df.set_index('OriginAirportID')['OriginAirportName'].to_dict()\n",
    "\n",
    "# Create a dictionary for DestAirportID to DestAirportName\n",
    "dest_airport_map = df.set_index('DestAirportID')['DestAirportName'].to_dict()\n",
    "\n",
    "# Combine both dictionaries into one\n",
    "airport_map = {**origin_airport_map, **dest_airport_map}\n",
    "\n",
    "print(airport_map)"
   ]
  },
  {
   "cell_type": "code",
   "execution_count": 24,
   "metadata": {},
   "outputs": [],
   "source": [
    "# Remove duplicate records from airport_map\n",
    "unique_airport_map = {k: v for k, v in airport_map.items()}\n",
    "\n",
    "print(unique_airport_map)"
   ]
  },
  {
   "cell_type": "code",
   "execution_count": 25,
   "metadata": {},
   "outputs": [],
   "source": [
    "import csv\n",
    "\n",
    "# Define the file path\n",
    "file_path = './data/airports.csv'\n",
    "\n",
    "# Write the unique_airport_map dictionary to a CSV file\n",
    "with open(file_path, mode='w', newline='') as file:\n",
    "    writer = csv.writer(file)\n",
    "    writer.writerow(['AirportID', 'AirportName'])\n",
    "    for airport_id, airport_name in unique_airport_map.items():\n",
    "        writer.writerow([airport_id, airport_name])"
   ]
  },
  {
   "cell_type": "code",
   "execution_count": 1,
   "metadata": {},
   "outputs": [
    {
     "name": "stdout",
     "output_type": "stream",
     "text": [
      "Accuracy: 0.75\n",
      "Probability of delay: 0.24\n"
     ]
    },
    {
     "data": {
      "text/plain": [
       "['model/delayedFlightsColumns.pkl']"
      ]
     },
     "execution_count": 1,
     "metadata": {},
     "output_type": "execute_result"
    }
   ],
   "source": [
    "from sklearn.model_selection import train_test_split\n",
    "from sklearn.linear_model import LogisticRegression\n",
    "from sklearn.metrics import accuracy_score\n",
    "import pandas as pd\n",
    "import joblib\n",
    "\n",
    "# Read the CSV file\n",
    "df = pd.read_csv('./data/flights.csv')\n",
    "\n",
    "df.fillna(0, inplace=True)\n",
    "\n",
    "# Create a new column 'Delayed' which is 1 if either DepDel15 or ArrDel15 is greater than 0, else 0\n",
    "df['Delayed'] = ((df['DepDel15'] > 0) | (df['ArrDel15'] > 0)).astype(int)\n",
    "\n",
    "# Select features and target variable\n",
    "X = df[['DayOfWeek', 'OriginAirportID', 'DestAirportID']]\n",
    "y = df['Delayed']\n",
    "\n",
    "# Convert categorical variables to dummy variables\n",
    "X = pd.get_dummies(X, columns=['OriginAirportID', 'DestAirportID'], drop_first=True)\n",
    "\n",
    "# Split the data into training and testing sets\n",
    "X_train, X_test, y_train, y_test = train_test_split(X, y, test_size=0.2, random_state=42)\n",
    "\n",
    "# Create and train the logistic regression model\n",
    "model = LogisticRegression(max_iter=1000)\n",
    "model.fit(X_train, y_train)\n",
    "\n",
    "# Make predictions\n",
    "y_pred = model.predict(X_test)\n",
    "\n",
    "# Calculate accuracy\n",
    "accuracy = accuracy_score(y_test, y_pred)\n",
    "print(f'Accuracy: {accuracy:.2f}')\n",
    "\n",
    "# Function to predict delay probability for a given day and airport pair\n",
    "def predict_delay(day_of_week, origin, dest):\n",
    "    input_data = pd.DataFrame({'DayOfWeek': [day_of_week], 'Origin': [origin], 'Dest': [dest]})\n",
    "    input_data = pd.get_dummies(input_data, columns=['Origin', 'Dest'], drop_first=True)\n",
    "    input_data = input_data.reindex(columns=X.columns, fill_value=0)\n",
    "    probability = model.predict_proba(input_data)[0][1]\n",
    "    return probability\n",
    "\n",
    "# Example usage\n",
    "day_of_week = 7  # Wednesday\n",
    "origin = 12478\n",
    "dest = 14771\n",
    "delay_probability = predict_delay(day_of_week, origin, dest)\n",
    "print(f'Probability of delay: {delay_probability:.2f}')\n",
    "\n",
    "# Save the model to a file\n",
    "joblib.dump(model, 'model/delayedFlights.pkl')\n",
    "joblib.dump(X, 'model/delayedFlightsColumns.pkl')\n",
    "\n"
   ]
  },
  {
   "cell_type": "code",
   "execution_count": null,
   "metadata": {},
   "outputs": [],
   "source": []
  }
 ],
 "metadata": {
  "kernelspec": {
   "display_name": "base",
   "language": "python",
   "name": "python3"
  },
  "language_info": {
   "codemirror_mode": {
    "name": "ipython",
    "version": 3
   },
   "file_extension": ".py",
   "mimetype": "text/x-python",
   "name": "python",
   "nbconvert_exporter": "python",
   "pygments_lexer": "ipython3",
   "version": "3.11.7"
  }
 },
 "nbformat": 4,
 "nbformat_minor": 2
}
