{
 "cells": [
  {
   "cell_type": "code",
   "execution_count": 21,
   "metadata": {},
   "outputs": [],
   "source": [
    "import pandas as pd\n",
    "\n",
    "# Read the CSV file\n",
    "df = pd.read_csv('./data/flights.csv')\n",
    "\n",
    "df.fillna(0, inplace=True)"
   ]
  },
  {
   "cell_type": "code",
   "execution_count": 3,
   "metadata": {},
   "outputs": [
    {
     "name": "stdout",
     "output_type": "stream",
     "text": [
      "Accuracy: 0.75\n",
      "Probability of delay: 0.24\n"
     ]
    },
    {
     "data": {
      "text/plain": [
       "['model/delayedFlights.pkl']"
      ]
     },
     "execution_count": 3,
     "metadata": {},
     "output_type": "execute_result"
    }
   ],
   "source": [
    "from sklearn.model_selection import train_test_split\n",
    "from sklearn.linear_model import LogisticRegression\n",
    "from sklearn.metrics import accuracy_score\n",
    "import pandas as pd\n",
    "import joblib\n",
    "\n",
    "# Read the CSV file\n",
    "df = pd.read_csv('./data/flights.csv')\n",
    "\n",
    "df.fillna(0, inplace=True)\n",
    "\n",
    "# Create a new column 'Delayed' which is 1 if either DepDel15 or ArrDel15 is greater than 0, else 0\n",
    "df['Delayed'] = ((df['DepDel15'] > 0) | (df['ArrDel15'] > 0)).astype(int)\n",
    "\n",
    "# Select features and target variable\n",
    "X = df[['DayOfWeek', 'OriginAirportName', 'DestAirportName']]\n",
    "y = df['Delayed']\n",
    "\n",
    "# Convert categorical variables to dummy variables\n",
    "X = pd.get_dummies(X, columns=['OriginAirportName', 'DestAirportName'], drop_first=True)\n",
    "\n",
    "# Split the data into training and testing sets\n",
    "X_train, X_test, y_train, y_test = train_test_split(X, y, test_size=0.2, random_state=42)\n",
    "\n",
    "# Create and train the logistic regression model\n",
    "model = LogisticRegression(max_iter=1000)\n",
    "model.fit(X_train, y_train)\n",
    "\n",
    "# Make predictions\n",
    "y_pred = model.predict(X_test)\n",
    "\n",
    "# Calculate accuracy\n",
    "accuracy = accuracy_score(y_test, y_pred)\n",
    "print(f'Accuracy: {accuracy:.2f}')\n",
    "\n",
    "# Function to predict delay probability for a given day and airport pair\n",
    "def predict_delay(day_of_week, origin, dest):\n",
    "    input_data = pd.DataFrame({'DayOfWeek': [day_of_week], 'Origin': [origin], 'Dest': [dest]})\n",
    "    input_data = pd.get_dummies(input_data, columns=['Origin', 'Dest'], drop_first=True)\n",
    "    input_data = input_data.reindex(columns=X.columns, fill_value=0)\n",
    "    probability = model.predict_proba(input_data)[0][1]\n",
    "    return probability\n",
    "\n",
    "# Example usage\n",
    "day_of_week = 3  # Wednesday\n",
    "origin = 'ATL'\n",
    "dest = 'LAX'\n",
    "delay_probability = predict_delay(day_of_week, origin, dest)\n",
    "print(f'Probability of delay: {delay_probability:.2f}')\n",
    "\n",
    "# Save the model to a file\n",
    "joblib.dump(model, 'model/delayedFlights.pkl')\n"
   ]
  },
  {
   "cell_type": "code",
   "execution_count": null,
   "metadata": {},
   "outputs": [],
   "source": [
    "import joblib\n",
    "\n",
    "# Save the model to a file\n",
    "joblib.dump(model, 'model/logistic_regression_model.pkl')"
   ]
  }
 ],
 "metadata": {
  "kernelspec": {
   "display_name": "base",
   "language": "python",
   "name": "python3"
  },
  "language_info": {
   "codemirror_mode": {
    "name": "ipython",
    "version": 3
   },
   "file_extension": ".py",
   "mimetype": "text/x-python",
   "name": "python",
   "nbconvert_exporter": "python",
   "pygments_lexer": "ipython3",
   "version": "3.11.7"
  }
 },
 "nbformat": 4,
 "nbformat_minor": 2
}
